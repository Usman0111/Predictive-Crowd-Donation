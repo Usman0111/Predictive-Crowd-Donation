{
 "cells": [
  {
   "cell_type": "code",
   "execution_count": null,
   "metadata": {},
   "outputs": [],
   "source": [
    "import numpy as np\n",
    "import pandas as pd\n",
    "from sklearn import preprocessing\n",
    "import matplotlib.pyplot as plt\n",
    "from keras.models import load_model"
   ]
  },
  {
   "cell_type": "code",
   "execution_count": null,
   "metadata": {},
   "outputs": [],
   "source": [
    "# Loads saved model\n",
    "model = load_model('multiple_input_multiple_datasets_model.h5')"
   ]
  },
  {
   "cell_type": "code",
   "execution_count": null,
   "metadata": {},
   "outputs": [],
   "source": [
    "# csv file path of dataset testing model on. Top of dataset is most recent stock prices\n",
    "data = pd.read_csv('GOOGL_daily.csv')\n",
    "data = data.iloc[::-1]\n",
    "data = data.drop('date', axis=1)\n",
    "print(data.head())\n",
    "print(data.shape)\n",
    "print(type(data))"
   ]
  },
  {
   "cell_type": "code",
   "execution_count": null,
   "metadata": {},
   "outputs": [],
   "source": [
    "data = data.values\n",
    "print(type(data))"
   ]
  },
  {
   "cell_type": "code",
   "execution_count": null,
   "metadata": {},
   "outputs": [],
   "source": [
    "plt.plot(data[-50:-1,0])"
   ]
  },
  {
   "cell_type": "code",
   "execution_count": null,
   "metadata": {},
   "outputs": [],
   "source": [
    "normalizing_scaler = preprocessing.MinMaxScaler()\n",
    "normalized_data = normalizing_scaler.fit_transform(data)\n",
    "print(\"Normalized data\")\n",
    "print(normalized_data[0:5,:])\n",
    "print(normalized_data.shape)"
   ]
  },
  {
   "cell_type": "code",
   "execution_count": null,
   "metadata": {},
   "outputs": [],
   "source": [
    "# Get y_normalizer\n",
    "# Get unscaled stock open price from original file data\n",
    "next_day_open_values = np.array([data[:,0][i + 50].copy() for i in range(len(data) - 50)])\n",
    "next_day_open_values = np.expand_dims(next_day_open_values, -1)\n",
    "print(\"Next day open values unscaled:\", next_day_open_values.shape)\n",
    "\n",
    "y_normaliser = preprocessing.MinMaxScaler()\n",
    "y_normaliser.fit(next_day_open_values)"
   ]
  },
  {
   "cell_type": "code",
   "execution_count": null,
   "metadata": {},
   "outputs": [],
   "source": [
    "# ohlcv_one is first 50 readings (days) of open/high/low/close/volume values\n",
    "ohlcv_one = normalized_data[-50:-1]\n",
    "#ohlcv_one = np.array([ohlcv_one])\n",
    "print(ohlcv_one.shape)\n",
    "print(ohlcv_one[0][0])\n",
    "\n",
    "ohlcv_two = normalized_data[-100:-50]\n",
    "#ohlcv_two = np.array([ohlcv_two])"
   ]
  },
  {
   "cell_type": "code",
   "execution_count": null,
   "metadata": {},
   "outputs": [],
   "source": [
    "mov_avg_one = np.mean(ohlcv_one[:,3]) # closing price average, so average closing price from first 50 days\n",
    "print(type(mov_avg_one))\n",
    "print(mov_avg_one)\n",
    "\n",
    "mov_avg_two = np.mean(ohlcv_two[:,3])"
   ]
  },
  {
   "cell_type": "code",
   "execution_count": null,
   "metadata": {},
   "outputs": [],
   "source": [
    "def test_model(ohlcvItem, movAvgItem):\n",
    "    normalized_price_today = ohlcvItem[0][0]\n",
    "    normalized_price_today = np.array([[normalized_price_today]])\n",
    "    price_today = y_normaliser.inverse_transform(normalized_price_today)\n",
    "    \n",
    "    ohlcvItem = np.array([ohlcvItem])\n",
    "    movAvgItem = np.array([movAvgItem])\n",
    "    print(ohlcvItem.shape)\n",
    "    print(movAvgItem.shape)\n",
    "\n",
    "    predicted_price_tomorrow = np.squeeze(y_normaliser.inverse_transform(model.predict([ohlcvItem, movAvgItem])))\n",
    "    print(\"Actual price: \", price_today)\n",
    "    print(\"Predicted price: \", predicted_price_tomorrow)"
   ]
  },
  {
   "cell_type": "code",
   "execution_count": null,
   "metadata": {},
   "outputs": [],
   "source": [
    "test_model(ohlcv_one, mov_avg_one)"
   ]
  },
  {
   "cell_type": "code",
   "execution_count": null,
   "metadata": {},
   "outputs": [],
   "source": [
    "test_model(ohlcv_two, mov_avg_two)"
   ]
  },
  {
   "cell_type": "code",
   "execution_count": null,
   "metadata": {},
   "outputs": [],
   "source": []
  },
  {
   "cell_type": "code",
   "execution_count": null,
   "metadata": {},
   "outputs": [],
   "source": []
  },
  {
   "cell_type": "code",
   "execution_count": null,
   "metadata": {},
   "outputs": [],
   "source": []
  },
  {
   "cell_type": "code",
   "execution_count": null,
   "metadata": {},
   "outputs": [],
   "source": []
  },
  {
   "cell_type": "code",
   "execution_count": null,
   "metadata": {},
   "outputs": [],
   "source": []
  }
 ],
 "metadata": {
  "kernelspec": {
   "display_name": "Python 3",
   "language": "python",
   "name": "python3"
  },
  "language_info": {
   "codemirror_mode": {
    "name": "ipython",
    "version": 3
   },
   "file_extension": ".py",
   "mimetype": "text/x-python",
   "name": "python",
   "nbconvert_exporter": "python",
   "pygments_lexer": "ipython3",
   "version": "3.8.3"
  }
 },
 "nbformat": 4,
 "nbformat_minor": 4
}
