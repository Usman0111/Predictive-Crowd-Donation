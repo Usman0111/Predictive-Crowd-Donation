{
 "cells": [
  {
   "cell_type": "code",
   "execution_count": 5,
   "metadata": {},
   "outputs": [],
   "source": [
    "import keras\n",
    "import tensorflow as tf\n",
    "from keras.models import Model\n",
    "from keras.layers import Dense, Dropout, LSTM, Input, Activation, concatenate\n",
    "from keras import optimizers\n",
    "import pandas as pd\n",
    "from sklearn import preprocessing\n",
    "import numpy as np\n",
    "np.random.seed(4)\n",
    "tf.random.set_seed(4)"
   ]
  },
  {
   "cell_type": "code",
   "execution_count": 6,
   "metadata": {},
   "outputs": [],
   "source": [
    "history_days = 50"
   ]
  },
  {
   "cell_type": "code",
   "execution_count": 7,
   "metadata": {},
   "outputs": [],
   "source": [
    "def csv_to_dataset(csv_file_path):\n",
    "  file_data = pd.read_csv(csv_file_path)\n",
    "  file_data = file_data.drop('date', axis=1)\n",
    "  file_data = file_data.drop(0, axis=0)\n",
    "  print(\"File data DataFrame:\", file_data.shape)\n",
    "  print(file_data.head())\n",
    "  file_data = file_data.values\n",
    "  \n",
    "  normalizing_scaler = preprocessing.MinMaxScaler()\n",
    "  normalized_data = normalizing_scaler.fit_transform(file_data)\n",
    "  print()\n",
    "  print(\"Normalized data\")\n",
    "  print(normalized_data[0:5,:])\n",
    "  \n",
    "  # Data is in order of: Open stock value, high value, low, close, and volume - ohlcv\n",
    "  # Creates array of 5x50-value array windows, each one will be a training input into model\n",
    "  ohlcv_histories_normalised = np.array([normalized_data[i : i + history_days].copy() for i in range(len(normalized_data) - history_days)])\n",
    "  print()\n",
    "  print(\"Normalized inputs\", ohlcv_histories_normalised.shape)\n",
    "  #print(ohlcv_histories_normalised[0:2,0:5])\n",
    "  \n",
    "  # Get scaled stock open price values, which model is predicting\n",
    "  next_day_open_values_normalised = np.array([normalized_data[:,0][i + history_days].copy() for i in range(len(normalized_data) - history_days)])\n",
    "  next_day_open_values_normalised = np.expand_dims(next_day_open_values_normalised, -1)\n",
    "  #print()\n",
    "  print(\"Next day open values scaled:\", next_day_open_values_normalised.shape)\n",
    "  \n",
    "  # Get unscaled stock open price from original file data\n",
    "  next_day_open_values = np.array([file_data[:,0][i + history_days].copy() for i in range(len(file_data) - history_days)])\n",
    "  next_day_open_values = np.expand_dims(next_day_open_values, -1)\n",
    "  print(\"Next day open values unscaled:\", next_day_open_values.shape)\n",
    "\n",
    "  y_normaliser = preprocessing.MinMaxScaler()\n",
    "  y_normaliser.fit(next_day_open_values)\n",
    "\n",
    "  # Moving average technical indicator of stock price input\n",
    "  moving_averages = []\n",
    "  for his in ohlcv_histories_normalised:\n",
    "    sma = np.mean(his[:,3]) # Using closing price of the stocks for the moving average, not open price\n",
    "    moving_averages.append(np.array([sma]))\n",
    "\n",
    "  moving_averages = np.array(moving_averages) # Convert to numpy array\n",
    "  moving_averages_scaler = preprocessing.MinMaxScaler() # Scale with min-max scaler\n",
    "  moving_averages_normalised = moving_averages_scaler.fit_transform(moving_averages)\n",
    "\n",
    "  assert ohlcv_histories_normalised.shape[0] == next_day_open_values_normalised.shape[0] == moving_averages_normalised.shape[0]\n",
    "  return ohlcv_histories_normalised, moving_averages_normalised, next_day_open_values_normalised, next_day_open_values, y_normaliser"
   ]
  },
  {
   "cell_type": "code",
   "execution_count": 8,
   "metadata": {},
   "outputs": [
    {
     "name": "stdout",
     "output_type": "stream",
     "text": [
      "File data DataFrame: (5254, 5)\n",
      "   1. open  2. high  3. low  4. close   5. volume\n",
      "1   200.05   204.33  199.96    202.91  34011257.0\n",
      "2   210.62   210.65  204.64    205.05  26372464.0\n",
      "3   208.42   209.78  206.93    208.78  21823942.0\n",
      "4   204.24   209.20  204.03    205.41  30375768.0\n",
      "5   207.20   208.63  201.24    204.03  33620073.0\n",
      "\n",
      "Normalized data\n",
      "[[0.86350259 0.86867059 0.87109375 0.86725173 0.04812097]\n",
      " [0.91287896 0.89776284 0.89311935 0.87713626 0.03506769]\n",
      " [0.90260195 0.89375806 0.90389684 0.8943649  0.02729512]\n",
      " [0.88307563 0.8910882  0.89024849 0.87879908 0.04190859]\n",
      " [0.89690288 0.88846437 0.87711785 0.87242494 0.04745251]]\n",
      "\n",
      "Normalized inputs (5204, 50, 5)\n",
      "Next day open values scaled: (5204, 1)\n",
      "Next day open values unscaled: (5204, 1)\n"
     ]
    },
    {
     "ename": "NameError",
     "evalue": "name 'technical_indicators' is not defined",
     "output_type": "error",
     "traceback": [
      "\u001b[1;31m---------------------------------------------------------------------------\u001b[0m",
      "\u001b[1;31mNameError\u001b[0m                                 Traceback (most recent call last)",
      "\u001b[1;32m<ipython-input-8-15a9fb1d76bf>\u001b[0m in \u001b[0;36m<module>\u001b[1;34m\u001b[0m\n\u001b[0;32m      7\u001b[0m \u001b[1;33m\u001b[0m\u001b[0m\n\u001b[0;32m      8\u001b[0m \u001b[0mohlcv_train\u001b[0m \u001b[1;33m=\u001b[0m \u001b[0mohlcv_histories\u001b[0m\u001b[1;33m[\u001b[0m\u001b[1;33m:\u001b[0m\u001b[0mn\u001b[0m\u001b[1;33m]\u001b[0m\u001b[1;33m\u001b[0m\u001b[1;33m\u001b[0m\u001b[0m\n\u001b[1;32m----> 9\u001b[1;33m \u001b[0mmov_avg_train\u001b[0m \u001b[1;33m=\u001b[0m \u001b[0mtechnical_indicators\u001b[0m\u001b[1;33m[\u001b[0m\u001b[1;33m:\u001b[0m\u001b[0mn\u001b[0m\u001b[1;33m]\u001b[0m\u001b[1;33m\u001b[0m\u001b[1;33m\u001b[0m\u001b[0m\n\u001b[0m\u001b[0;32m     10\u001b[0m \u001b[0mopen_prices_train\u001b[0m \u001b[1;33m=\u001b[0m \u001b[0mnext_day_open_values\u001b[0m\u001b[1;33m[\u001b[0m\u001b[1;33m:\u001b[0m\u001b[0mn\u001b[0m\u001b[1;33m]\u001b[0m\u001b[1;33m\u001b[0m\u001b[1;33m\u001b[0m\u001b[0m\n\u001b[0;32m     11\u001b[0m \u001b[1;33m\u001b[0m\u001b[0m\n",
      "\u001b[1;31mNameError\u001b[0m: name 'technical_indicators' is not defined"
     ]
    }
   ],
   "source": [
    "# Load preprocessed dataset of stock prices\n",
    "ohlcv_histories, moving_averages, next_day_open_values, unscaled_open_prices, y_normaliser = csv_to_dataset('MSFT_daily.csv')\n",
    "\n",
    "# Split into test and training sets\n",
    "train_split = 0.9\n",
    "n = int(ohlcv_histories.shape[0] * train_split)\n",
    "\n",
    "ohlcv_train = ohlcv_histories[:n]\n",
    "mov_avg_train = moving_averages[:n]\n",
    "open_prices_train = next_day_open_values[:n]\n",
    "\n",
    "ohlcv_test = ohlcv_histories[n:]\n",
    "mov_avg_test = moving_averages[n:]\n",
    "open_prices_test = next_day_open_values[n:]\n",
    "\n",
    "unscaled_open_prices_test = unscaled_open_prices[n:]"
   ]
  },
  {
   "cell_type": "code",
   "execution_count": null,
   "metadata": {},
   "outputs": [],
   "source": [
    "# Build Model v2 - more complex layers, 2 inputs\n",
    "# Two sets of input into model - previous stock prices over time and the techincal indicator (moving average)\n",
    "lstm_input = Input(shape=(history_points, 5), name='lstm_input')\n",
    "dense_input = Input(shape=(moving_averages.shape[1],), name='tech_input')\n",
    " \n",
    "# First branch of model has layers for first input, stock prices from data\n",
    "x = LSTM(50, name='lstm_0')(lstm_input)\n",
    "x = Dropout(0.2, name='lstm_dropout_0')(x)\n",
    "lstm_branch = Model(inputs=lstm_input, outputs=x)\n",
    " \n",
    "# Second branch - Moving Average technical indicator input\n",
    "y = Dense(20, name='tech_dense_0')(dense_input)\n",
    "y = Activation(\"relu\", name='tech_relu_0')(y)\n",
    "y = Dropout(0.2, name='tech_dropout_0')(y)\n",
    "moving_averages_branch = Model(inputs=dense_input, outputs=y)\n",
    " \n",
    "# Combine two branches\n",
    "combined_branches = concatenate([lstm_branch.output, moving_averages_branch.output], name='concatenate')\n",
    "z = Dense(64, activation=\"sigmoid\", name='dense_pooling')(combined_branches)\n",
    "z = Dense(1, activation=\"linear\", name='dense_out')(z)\n",
    " \n",
    "# Model takes inputs from both branches, outputs a single value\n",
    "model = Model(inputs=[lstm_branch.input, moving_averages_branch.input], outputs=z)\n",
    "adam = optimizers.Adam(lr=0.0005)\n",
    "model.compile(optimizer=adam, loss='mse')"
   ]
  },
  {
   "cell_type": "code",
   "execution_count": null,
   "metadata": {},
   "outputs": [],
   "source": [
    "model.fit(x=[ohlcv_train, mov_avg_train], y=open_prices_train, batch_size=32, epochs=50, shuffle=True, validation_split=0.1)"
   ]
  },
  {
   "cell_type": "code",
   "execution_count": null,
   "metadata": {},
   "outputs": [],
   "source": [
    "evaluation = model.evaluate([ohlcv_test, tech_ind_test], y_test)\n",
    "print(evaluation)"
   ]
  },
  {
   "cell_type": "code",
   "execution_count": null,
   "metadata": {},
   "outputs": [],
   "source": [
    "# Evaluate model\n",
    "# Open prices prediction\n",
    "open_prices_test_predicted = model.predict([ohlcv_test, mov_avg_test])\n",
    "open_prices_test_predicted = y_normaliser.inverse_transform(open_prices_test_predicted)\n",
    "\n",
    "# Entire dataset prediction\n",
    "open_prices_predicted = model.predict([ohlcv_histories, moving_averages])\n",
    "open_prices_predicted = y_normaliser.inverse_transform(open_prices_predicted)\n",
    "\n",
    "assert unscaled_open_prices_test.shape == open_prices_test_predicted.shape\n",
    "real_mse = np.mean(np.square(unscaled_open_prices_test - open_prices_test_predicted))\n",
    "scaled_mse = real_mse / (np.max(unscaled_open_prices_test) - np.min(unscaled_open_prices_test)) * 100\n",
    "print(scaled_mse)"
   ]
  },
  {
   "cell_type": "code",
   "execution_count": null,
   "metadata": {},
   "outputs": [],
   "source": [
    "# Plot Predictions and real values\n",
    "plt.gcf().set_size_inches(22, 15, forward=True)\n",
    "start = 0\n",
    "end = -1\n",
    "real = plt.plot(unscaled_open_prices_test[start:end], label='real')\n",
    "pred = plt.plot(open_prices_test_predicted[start:end], label='predicted')\n",
    "\n",
    "plt.legend(['Real', 'Predicted'])\n",
    "\n",
    "plt.show()"
   ]
  },
  {
   "cell_type": "code",
   "execution_count": null,
   "metadata": {},
   "outputs": [],
   "source": []
  },
  {
   "cell_type": "code",
   "execution_count": null,
   "metadata": {},
   "outputs": [],
   "source": []
  },
  {
   "cell_type": "code",
   "execution_count": null,
   "metadata": {},
   "outputs": [],
   "source": []
  },
  {
   "cell_type": "code",
   "execution_count": null,
   "metadata": {},
   "outputs": [],
   "source": []
  },
  {
   "cell_type": "code",
   "execution_count": null,
   "metadata": {},
   "outputs": [],
   "source": []
  }
 ],
 "metadata": {
  "kernelspec": {
   "display_name": "Python 3",
   "language": "python",
   "name": "python3"
  },
  "language_info": {
   "codemirror_mode": {
    "name": "ipython",
    "version": 3
   },
   "file_extension": ".py",
   "mimetype": "text/x-python",
   "name": "python",
   "nbconvert_exporter": "python",
   "pygments_lexer": "ipython3",
   "version": "3.8.3"
  }
 },
 "nbformat": 4,
 "nbformat_minor": 4
}
