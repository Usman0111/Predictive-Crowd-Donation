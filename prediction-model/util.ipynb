{
 "cells": [
  {
   "cell_type": "code",
   "execution_count": 1,
   "metadata": {},
   "outputs": [],
   "source": [
    "import pandas as pd\n",
    "from sklearn import preprocessing\n",
    "import numpy as np"
   ]
  },
  {
   "cell_type": "code",
   "execution_count": 2,
   "metadata": {},
   "outputs": [],
   "source": [
    "history_days = 50"
   ]
  },
  {
   "cell_type": "code",
   "execution_count": 10,
   "metadata": {},
   "outputs": [],
   "source": [
    "def csv_to_dataset(csv_file_path):\n",
    "    file_data = pd.read_csv(csv_file_path)\n",
    "    file_data = file_data.drop('date', axis=1)\n",
    "    file_data = file_data.drop(0, axis=0)\n",
    "    print(file_data.shape)\n",
    "    print(file_data.head(10))"
   ]
  },
  {
   "cell_type": "code",
   "execution_count": 11,
   "metadata": {},
   "outputs": [
    {
     "name": "stdout",
     "output_type": "stream",
     "text": [
      "(5254, 5)\n",
      "    1. open   2. high    3. low  4. close   5. volume\n",
      "1    200.05  204.3300  199.9600    202.91  34011257.0\n",
      "2    210.62  210.6500  204.6400    205.05  26372464.0\n",
      "3    208.42  209.7800  206.9300    208.78  21823942.0\n",
      "4    204.24  209.2000  204.0300    205.41  30375768.0\n",
      "5    207.20  208.6300  201.2400    204.03  33620073.0\n",
      "6    213.40  214.7400  204.1100    205.37  35461514.0\n",
      "7    207.60  214.8399  206.7000    211.29  45678986.0\n",
      "8    206.50  210.0300  202.2000    202.66  52924330.0\n",
      "9    215.10  218.3599  205.1900    214.25  59664072.0\n",
      "10   229.27  229.3100  214.9602    217.30  58400288.0\n"
     ]
    }
   ],
   "source": [
    "csv_to_dataset('./MSFT_daily.csv')"
   ]
  },
  {
   "cell_type": "code",
   "execution_count": null,
   "metadata": {},
   "outputs": [],
   "source": []
  },
  {
   "cell_type": "code",
   "execution_count": null,
   "metadata": {},
   "outputs": [],
   "source": []
  },
  {
   "cell_type": "code",
   "execution_count": null,
   "metadata": {},
   "outputs": [],
   "source": []
  },
  {
   "cell_type": "code",
   "execution_count": null,
   "metadata": {},
   "outputs": [],
   "source": []
  },
  {
   "cell_type": "code",
   "execution_count": null,
   "metadata": {},
   "outputs": [],
   "source": []
  }
 ],
 "metadata": {
  "kernelspec": {
   "display_name": "Python 3",
   "language": "python",
   "name": "python3"
  },
  "language_info": {
   "codemirror_mode": {
    "name": "ipython",
    "version": 3
   },
   "file_extension": ".py",
   "mimetype": "text/x-python",
   "name": "python",
   "nbconvert_exporter": "python",
   "pygments_lexer": "ipython3",
   "version": "3.8.3"
  }
 },
 "nbformat": 4,
 "nbformat_minor": 4
}
