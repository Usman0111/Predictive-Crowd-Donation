{
 "cells": [
  {
   "cell_type": "code",
   "execution_count": 1,
   "metadata": {},
   "outputs": [],
   "source": [
    "import numpy as np\n",
    "import pandas as pd\n",
    "from sklearn import preprocessing\n",
    "import matplotlib.pyplot as plt\n",
    "from keras.models import load_model"
   ]
  },
  {
   "cell_type": "code",
   "execution_count": 2,
   "metadata": {},
   "outputs": [],
   "source": [
    "# Loads saved model\n",
    "model = load_model('multiple_input_multiple_datasets_model.h5')"
   ]
  },
  {
   "cell_type": "code",
   "execution_count": 3,
   "metadata": {},
   "outputs": [
    {
     "name": "stdout",
     "output_type": "stream",
     "text": [
      "      1. open  2. high  3. low  4. close   5. volume\n",
      "4049   100.01   104.06   95.96   100.335  44659000.0\n",
      "4048   101.01   109.08  100.50   108.310  22834300.0\n",
      "4047   110.76   113.48  109.05   109.400  18256100.0\n",
      "4046   111.24   111.60  103.57   104.870  15247300.0\n",
      "4045   104.76   108.00  103.88   106.000   9188600.0\n",
      "(4050, 5)\n",
      "<class 'pandas.core.frame.DataFrame'>\n"
     ]
    }
   ],
   "source": [
    "# csv file path of dataset testing model on. Top of dataset is most recent stock prices\n",
    "dataset_filename_to_read = 'GOOGL_daily.csv'\n",
    "data = pd.read_csv(dataset_filename_to_read)\n",
    "data = data.iloc[::-1]\n",
    "data = data.drop('date', axis=1)\n",
    "print(data.head())\n",
    "print(data.shape)\n",
    "print(type(data))"
   ]
  },
  {
   "cell_type": "code",
   "execution_count": 4,
   "metadata": {},
   "outputs": [
    {
     "name": "stdout",
     "output_type": "stream",
     "text": [
      "<class 'numpy.ndarray'>\n"
     ]
    }
   ],
   "source": [
    "data = data.values\n",
    "print(type(data))"
   ]
  },
  {
   "cell_type": "code",
   "execution_count": 32,
   "metadata": {},
   "outputs": [
    {
     "name": "stdout",
     "output_type": "stream",
     "text": [
      "[1609.     1525.     1548.9    1550.18   1528.15   1531.6471 1527.89\n",
      " 1542.48   1485.81   1488.3   ]\n"
     ]
    }
   ],
   "source": [
    "most_recent_open_values = data[-10:,0]\n",
    "print(most_recent_open_values)"
   ]
  },
  {
   "cell_type": "code",
   "execution_count": 41,
   "metadata": {},
   "outputs": [
    {
     "data": {
      "text/plain": [
       "[<matplotlib.lines.Line2D at 0x2607790bcd0>]"
      ]
     },
     "execution_count": 41,
     "metadata": {},
     "output_type": "execute_result"
    },
    {
     "data": {
      "image/png": "[encoded data removed]",
      "text/plain": [
       "<Figure size 432x288 with 1 Axes>"
      ]
     },
     "metadata": {
      "needs_background": "light"
     },
     "output_type": "display_data"
    }
   ],
   "source": [
    "plt.plot(data[-60:,0])"
   ]
  },
  {
   "cell_type": "code",
   "execution_count": 34,
   "metadata": {},
   "outputs": [
    {
     "name": "stdout",
     "output_type": "stream",
     "text": [
      "Normalized data\n",
      "[[0.89510763 0.89589625 0.90085857 0.87105071 0.02550823]\n",
      " [0.89276007 0.89219633 0.91172014 0.8873054  0.01356181]\n",
      " [0.90187637 0.89427715 0.90500118 0.87306632 0.01301517]\n",
      " [0.86646714 0.85998061 0.87359276 0.85757831 0.02389275]]\n",
      "(4050, 5)\n"
     ]
    }
   ],
   "source": [
    "normalizing_scaler = preprocessing.MinMaxScaler()\n",
    "normalized_data = normalizing_scaler.fit_transform(data)\n",
    "print(\"Normalized data\")\n",
    "print(normalized_data[-5:-1,:])\n",
    "print(normalized_data.shape)"
   ]
  },
  {
   "cell_type": "code",
   "execution_count": 35,
   "metadata": {},
   "outputs": [
    {
     "name": "stdout",
     "output_type": "stream",
     "text": [
      "Next day open values unscaled: (4020, 1)\n"
     ]
    },
    {
     "data": {
      "text/plain": [
       "MinMaxScaler()"
      ]
     },
     "execution_count": 35,
     "metadata": {},
     "output_type": "execute_result"
    }
   ],
   "source": [
    "# Get y_normalizer\n",
    "# Get unscaled stock open price from original file data\n",
    "next_day_open_values = np.array([data[:,0][i + 30].copy() for i in range(len(data) - 30)])\n",
    "next_day_open_values = np.expand_dims(next_day_open_values, -1)\n",
    "print(\"Next day open values unscaled:\", next_day_open_values.shape)\n",
    "\n",
    "y_normaliser = preprocessing.MinMaxScaler()\n",
    "y_normaliser.fit(next_day_open_values)"
   ]
  },
  {
   "cell_type": "code",
   "execution_count": 36,
   "metadata": {},
   "outputs": [
    {
     "name": "stdout",
     "output_type": "stream",
     "text": [
      "(30, 5)\n",
      "0.880981986091238\n"
     ]
    }
   ],
   "source": [
    "# ohlcv_one is first 50 readings (days) of open/high/low/close/volume values\n",
    "ohlcv_one = normalized_data[-30:]\n",
    "#ohlcv_one = np.array([ohlcv_one])\n",
    "print(ohlcv_one.shape)\n",
    "print(ohlcv_one[0][0])\n",
    "\n",
    "ohlcv_two = normalized_data[-60:-30]\n",
    "#ohlcv_two = np.array([ohlcv_two])"
   ]
  },
  {
   "cell_type": "code",
   "execution_count": 37,
   "metadata": {},
   "outputs": [
    {
     "name": "stdout",
     "output_type": "stream",
     "text": [
      "<class 'numpy.float64'>\n",
      "0.9005306936733071\n"
     ]
    }
   ],
   "source": [
    "mov_avg_one = np.mean(ohlcv_one[:,3]) # closing price average, so average closing price from first 50 days\n",
    "print(type(mov_avg_one))\n",
    "print(mov_avg_one)\n",
    "\n",
    "mov_avg_two = np.mean(ohlcv_two[:,3])"
   ]
  },
  {
   "cell_type": "code",
   "execution_count": 38,
   "metadata": {},
   "outputs": [],
   "source": [
    "def test_model(ohlcvItem, movAvgItem):\n",
    "    normalized_price_today = ohlcvItem[0][0]\n",
    "    normalized_price_today = np.array([[normalized_price_today]])\n",
    "    price_today = y_normaliser.inverse_transform(normalized_price_today)\n",
    "    \n",
    "    ohlcvItem = np.array([ohlcvItem])\n",
    "    movAvgItem = np.array([movAvgItem])\n",
    "    print(ohlcvItem.shape)\n",
    "    print(movAvgItem.shape)\n",
    "\n",
    "    predicted_price_tomorrow = np.squeeze(y_normaliser.inverse_transform(model.predict([ohlcvItem, movAvgItem])))\n",
    "    print(\"Actual price: \", price_today)\n",
    "    print(\"Predicted price: \", predicted_price_tomorrow)"
   ]
  },
  {
   "cell_type": "code",
   "execution_count": 39,
   "metadata": {},
   "outputs": [
    {
     "name": "stdout",
     "output_type": "stream",
     "text": [
      "(1, 30, 5)\n",
      "(1,)\n",
      "Actual price:  [[1512.81406122]]\n",
      "Predicted price:  1462.555\n"
     ]
    }
   ],
   "source": [
    "test_model(ohlcv_one, mov_avg_one)"
   ]
  },
  {
   "cell_type": "code",
   "execution_count": 40,
   "metadata": {},
   "outputs": [
    {
     "name": "stdout",
     "output_type": "stream",
     "text": [
      "(1, 30, 5)\n",
      "(1,)\n",
      "Actual price:  [[1436.53594197]]\n",
      "Predicted price:  1491.3722\n"
     ]
    }
   ],
   "source": [
    "test_model(ohlcv_two, mov_avg_two)"
   ]
  },
  {
   "cell_type": "code",
   "execution_count": null,
   "metadata": {},
   "outputs": [],
   "source": []
  },
  {
   "cell_type": "code",
   "execution_count": null,
   "metadata": {},
   "outputs": [],
   "source": []
  },
  {
   "cell_type": "code",
   "execution_count": null,
   "metadata": {},
   "outputs": [],
   "source": []
  },
  {
   "cell_type": "code",
   "execution_count": null,
   "metadata": {},
   "outputs": [],
   "source": []
  },
  {
   "cell_type": "code",
   "execution_count": null,
   "metadata": {},
   "outputs": [],
   "source": []
  }
 ],
 "metadata": {
  "kernelspec": {
   "display_name": "Python 3",
   "language": "python",
   "name": "python3"
  },
  "language_info": {
   "codemirror_mode": {
    "name": "ipython",
    "version": 3
   },
   "file_extension": ".py",
   "mimetype": "text/x-python",
   "name": "python",
   "nbconvert_exporter": "python",
   "pygments_lexer": "ipython3",
   "version": "3.8.3"
  }
 },
 "nbformat": 4,
 "nbformat_minor": 4
}
